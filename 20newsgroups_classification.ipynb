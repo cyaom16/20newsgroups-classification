{
 "cells": [
  {
   "cell_type": "code",
   "execution_count": 1,
   "metadata": {},
   "outputs": [],
   "source": [
    "# show the matplotlib plotted graph within notebook lines.\n",
    "import matplotlib.pyplot as plt\n",
    "%matplotlib inline\n",
    "import seaborn as sns"
   ]
  },
  {
   "cell_type": "markdown",
   "metadata": {},
   "source": [
    "### In case that your tqdm is not installed. Please go to the Start(Windows)->Anaconda2(64-bit)->Anaconda Prompt(py35)\n",
    "\n",
    "### type: conda install tqdm -y"
   ]
  },
  {
   "cell_type": "code",
   "execution_count": 2,
   "metadata": {},
   "outputs": [
    {
     "name": "stderr",
     "output_type": "stream",
     "text": [
      "C:\\Anaconda\\envs\\py35\\lib\\site-packages\\sklearn\\cross_validation.py:44: DeprecationWarning: This module was deprecated in version 0.18 in favor of the model_selection module into which all the refactored classes and functions are moved. Also note that the interface of the new CV iterators are different from that of this module. This module will be removed in 0.20.\n",
      "  \"This module will be removed in 0.20.\", DeprecationWarning)\n",
      "C:\\Anaconda\\envs\\py35\\lib\\site-packages\\sklearn\\grid_search.py:43: DeprecationWarning: This module was deprecated in version 0.18 in favor of the model_selection module into which all the refactored classes and functions are moved. This module will be removed in 0.20.\n",
      "  DeprecationWarning)\n"
     ]
    }
   ],
   "source": [
    "# import required libraries\n",
    "# pandas:Data framework library for Python\n",
    "# sklearn: Library to perform machine learning tasks\n",
    "import os\n",
    "import time\n",
    "from tqdm import tqdm\n",
    "import pandas as pd\n",
    "import numpy as np\n",
    "import scipy\n",
    "# import scipy.stats as st\n",
    "import re\n",
    "import codecs\n",
    "from collections import Counter\n",
    "import nltk\n",
    "from nltk.stem import *\n",
    "from nltk.corpus import stopwords\n",
    "import sklearn \n",
    "import sklearn.datasets\n",
    "import sklearn.metrics as metrics \n",
    "from sklearn.metrics import accuracy_score\n",
    "from sklearn.naive_bayes import GaussianNB\n",
    "from sklearn.linear_model import LogisticRegression\n",
    "from sklearn.cross_validation import StratifiedKFold\n",
    "from sklearn.svm import SVC\n",
    "from sklearn.grid_search import GridSearchCV\n",
    "from sklearn.metrics import classification_report\n",
    "from sklearn.cross_validation import train_test_split\n",
    "from sklearn.preprocessing import label_binarize\n",
    "from sklearn.feature_selection import mutual_info_classif\n",
    "from scipy import stats"
   ]
  },
  {
   "cell_type": "code",
   "execution_count": 3,
   "metadata": {
    "collapsed": true
   },
   "outputs": [],
   "source": [
    "# nltk.download('stopwords')"
   ]
  },
  {
   "cell_type": "code",
   "execution_count": 4,
   "metadata": {
    "collapsed": true
   },
   "outputs": [],
   "source": [
    "# extract data\n",
    "# !gzip -d -k 20news-19997.tar.gz\n",
    "# !tar -xf 20news-19997.tar"
   ]
  },
  {
   "cell_type": "code",
   "execution_count": 5,
   "metadata": {},
   "outputs": [],
   "source": [
    "# display newsgroups directories\n",
    "# !ls 20_newsgroups"
   ]
  },
  {
   "cell_type": "markdown",
   "metadata": {},
   "source": [
    "## Support functions"
   ]
  },
  {
   "cell_type": "code",
   "execution_count": 6,
   "metadata": {
    "collapsed": true
   },
   "outputs": [],
   "source": [
    "def getFilesDirectory(datapath='20_newsgroups'):\n",
    "    # create file directory for all files\n",
    "    files = []\n",
    "    for (path, dirnames, filenames) in os.walk(datapath):\n",
    "        files.extend(os.path.join(path, name) for name in filenames)\n",
    "    # putting file directories into pandas dataframe\n",
    "    directorydf = pd.DataFrame(files)\n",
    "    directorydf.columns = ['Directories']\n",
    "    return directorydf"
   ]
  },
  {
   "cell_type": "code",
   "execution_count": 7,
   "metadata": {},
   "outputs": [
    {
     "data": {
      "text/html": [
       "<div>\n",
       "<style>\n",
       "    .dataframe thead tr:only-child th {\n",
       "        text-align: right;\n",
       "    }\n",
       "\n",
       "    .dataframe thead th {\n",
       "        text-align: left;\n",
       "    }\n",
       "\n",
       "    .dataframe tbody tr th {\n",
       "        vertical-align: top;\n",
       "    }\n",
       "</style>\n",
       "<table border=\"1\" class=\"dataframe\">\n",
       "  <thead>\n",
       "    <tr style=\"text-align: right;\">\n",
       "      <th></th>\n",
       "      <th>Directories</th>\n",
       "    </tr>\n",
       "  </thead>\n",
       "  <tbody>\n",
       "    <tr>\n",
       "      <th>0</th>\n",
       "      <td>20_newsgroups\\alt.atheism\\49960</td>\n",
       "    </tr>\n",
       "    <tr>\n",
       "      <th>1</th>\n",
       "      <td>20_newsgroups\\alt.atheism\\51060</td>\n",
       "    </tr>\n",
       "    <tr>\n",
       "      <th>2</th>\n",
       "      <td>20_newsgroups\\alt.atheism\\51119</td>\n",
       "    </tr>\n",
       "    <tr>\n",
       "      <th>3</th>\n",
       "      <td>20_newsgroups\\alt.atheism\\51120</td>\n",
       "    </tr>\n",
       "    <tr>\n",
       "      <th>4</th>\n",
       "      <td>20_newsgroups\\alt.atheism\\51121</td>\n",
       "    </tr>\n",
       "  </tbody>\n",
       "</table>\n",
       "</div>"
      ],
      "text/plain": [
       "                       Directories\n",
       "0  20_newsgroups\\alt.atheism\\49960\n",
       "1  20_newsgroups\\alt.atheism\\51060\n",
       "2  20_newsgroups\\alt.atheism\\51119\n",
       "3  20_newsgroups\\alt.atheism\\51120\n",
       "4  20_newsgroups\\alt.atheism\\51121"
      ]
     },
     "execution_count": 7,
     "metadata": {},
     "output_type": "execute_result"
    }
   ],
   "source": [
    "directorydf = getFilesDirectory()\n",
    "directorydf.head(n=5)"
   ]
  },
  {
   "cell_type": "code",
   "execution_count": 8,
   "metadata": {
    "collapsed": true
   },
   "outputs": [],
   "source": [
    "# create function to help encoding the targets\n",
    "def label_target(d):\n",
    "    if d.find(\"alt.atheism\") > 0:\n",
    "      return 0\n",
    "    if d.find(\"comp.graphics\") > 0:\n",
    "      return 1\n",
    "    if d.find(\"comp.os.ms-windows.misc\") > 0:\n",
    "      return 2\n",
    "    if d.find(\"comp.sys.ibm.pc.hardware\") > 0:\n",
    "      return 3\n",
    "    if d.find(\"comp.sys.mac.hardware\") > 0:\n",
    "      return 4\n",
    "    if d.find(\"comp.windows.x\") > 0:\n",
    "      return 5\n",
    "    if d.find(\"misc.forsale\") > 0:\n",
    "      return 6\n",
    "    if d.find(\"rec.autos\") > 0:\n",
    "      return 7\n",
    "    if d.find(\"rec.motorcycles\") > 0:\n",
    "      return 8\n",
    "    if d.find(\"rec.sport.baseball\") > 0:\n",
    "      return 9\n",
    "    if d.find(\"rec.sport.hockey\") > 0:\n",
    "      return 10\n",
    "    if d.find(\"sci.crypt\") > 0:\n",
    "      return 11\n",
    "    if d.find(\"sci.electronics\") > 0:\n",
    "      return 12\n",
    "    if d.find(\"sci.med\") > 0:\n",
    "      return 13\n",
    "    if d.find(\"sci.space\") > 0:\n",
    "      return 14\n",
    "    if d.find(\"soc.religion.christian\") > 0:\n",
    "      return 15\n",
    "    if d.find(\"talk.politics.guns\") > 0:\n",
    "      return 16\n",
    "    if d.find(\"talk.politics.mideast\") > 0:\n",
    "      return 17\n",
    "    if d.find(\"talk.politics.misc\") > 0:\n",
    "      return 18\n",
    "    if d.find(\"talk.religion.misc\") > 0:\n",
    "      return 19\n",
    "    return 'Other'"
   ]
  },
  {
   "cell_type": "markdown",
   "metadata": {},
   "source": [
    "## Q1"
   ]
  },
  {
   "cell_type": "markdown",
   "metadata": {},
   "source": [
    "### (a)"
   ]
  },
  {
   "cell_type": "markdown",
   "metadata": {},
   "source": [
    "i) For features preparation, we use a binary term frequency-based unigram model to encode the text documents. I think the unigram term frequency encoding method is a reasonable first step to start with, which is straightforward to implement. The binary encoding method allows the features to be normalized to the same scale (0 or 1), which is highly desirable for some classifier, such as SVM and NB.\n",
    "\n",
    "In the preprocessing part, we firstly use lowercase unification to avoid case-sensitivity. Secondly, the stop words are removed in the text. It is observed there are plenty of 2-letter word tokens that does not make much sense, possibly due to the lowercase of acronyms, which are removed as well. Finaly, a lemmatizer is applied in order to merge the similar words together.\n",
    "\n",
    "ii) Feature ranking is based on the frequency of all the words updated from the entire document collection, the higher term frequency of a word, the higher ranking, which suggests potentially higher relevance in the context.\n",
    "\n",
    "iii) The number of features selected directly affects the performance of a classification. Here it should be sufficiently large for the model in order to capture the essence, and computional-wise less expensive. Here, we use the top 400 words for the features."
   ]
  },
  {
   "cell_type": "markdown",
   "metadata": {},
   "source": [
    "### (b)"
   ]
  },
  {
   "cell_type": "code",
   "execution_count": 9,
   "metadata": {
    "collapsed": true
   },
   "outputs": [],
   "source": [
    "def dataPreprocessor(k, fs, encode, directorydf, size=None):\n",
    "    \"\"\"\n",
    "    INPUT\n",
    "        k: int. number of features to use\n",
    "        fs: string. From ['tf', 'mi']\n",
    "        encode: string. From ['tf', 'boolean']\n",
    "        drectorydf: Dataframe. It is given, see above support functions\n",
    "        size: int. Sample size. Default should be the data size.\n",
    "    OUTPUT\n",
    "        data: Dataframe. preprocessed data\n",
    "    \n",
    "    ps: 'tf' means term frequency, 'mi' means mutual information\n",
    "    \"\"\"\n",
    "    \n",
    "    ########### your code goes here ###########\n",
    "    \n",
    "    # Sizing data\n",
    "    total_directory = directorydf[:size] if size else directorydf\n",
    "    N = len(total_directory)\n",
    "    \n",
    "    stop_words = set(stopwords.words('english'))\n",
    "    months = set(['jan', 'january', 'feb', 'february', 'mar', 'apr', 'april', 'may', 'jun', 'june', 'jul', 'july', \n",
    "                  'aug', 'august', 'sep', 'september', 'oct', 'october', 'nov', 'november', 'dec', 'december'])\n",
    "    wln = WordNetLemmatizer()\n",
    "    counter = Counter()\n",
    "    \n",
    "    for rownum, row in enumerate(directorydf.itertuples()):\n",
    "        with codecs.open(row.Directories, 'r', encoding='utf-8', errors='ignore') as myfile:\n",
    "            # Remove numbers in the documents\n",
    "            tmp_text = re.sub('\\d+', '', myfile.read().lower())\n",
    "\n",
    "            # Use lemmatizer, stop-words filter and ignoring a length of word less than 2\n",
    "            counter.update([wln.lemmatize(word) for word in re.findall(r'\\w+', tmp_text)\n",
    "                            if (word not in stop_words) and (word not in months) and (len(word) > 2)])\n",
    "        if (rownum % 5000 == 0):\n",
    "            print(\"processed %d files\" % (rownum + 1))\n",
    "            \n",
    "    print(\"Initial Counter update complete...\\n\")\n",
    "            \n",
    "    docs = N * [None]\n",
    "    if fs == 'tf':\n",
    "        topk = counter.most_common(k)\n",
    "    elif fs == 'mi':\n",
    "        topk = counter.most_common(2000)\n",
    "        targets = N * [None]\n",
    "        labels = N * [None]\n",
    "    \n",
    "    # now we had top k words, count the termn frequecy or binary of these words in individual file\n",
    "    for rownum, row in enumerate(total_directory.itertuples()):\n",
    "        with codecs.open(row.Directories, 'r' ,encoding='utf-8', errors='ignore') as myfile:\n",
    "            tmp_text = re.sub('\\d+', '', myfile.read().lower())\n",
    "\n",
    "            tmp_counter = Counter([wln.lemmatize(word) for word in re.findall(r'\\w+', tmp_text)])\n",
    "            if encode == 'tf':\n",
    "                topk_doc = [tmp_counter[word] for (word, word_count) in topk]\n",
    "            # if the word appears in the doc, then 1, else \n",
    "            elif encode == 'boolean':\n",
    "                topk_doc = [1 if tmp_counter[word] else 0 for (word, word_count) in topk]\n",
    "            \n",
    "            doc_label = row.Directories\n",
    "            doc_target = label_target(doc_label)\n",
    "            if fs == 'mi':\n",
    "                docs[rownum] = topk_doc\n",
    "                targets[rownum] = doc_target\n",
    "                labels[rownum] = doc_label\n",
    "            elif fs == 'tf':\n",
    "                docs[rownum] = topk_doc + [doc_target] + [doc_label]\n",
    "            \n",
    "            if (rownum % 5000 == 0):\n",
    "                print(\"processed %d files\" % (rownum + 1))\n",
    "                \n",
    "    print(\"Encoding complete...\\n\")\n",
    "    \n",
    "    if fs == 'mi':\n",
    "        a_docs = np.asarray(docs)\n",
    "\n",
    "        print(\"Calculating mutual information...\")\n",
    "        mi = mutual_info_classif(a_docs, targets)\n",
    "        print(\"MI complete...\")\n",
    "        \n",
    "        sort_mi_idx = np.argsort(mi)\n",
    "        topk_mi_idx = sort_mi_idx[:k]\n",
    "#         print(topk_mi_idx)\n",
    "        \n",
    "        topk_mi_docs = a_docs[:, topk_mi_idx]\n",
    "#         print(topk_mi_docs.shape)\n",
    "        \n",
    "        topk = [topk[i] for i in topk_mi_idx]\n",
    "        data = pd.DataFrame(topk_mi_docs, columns=[c[0] for c in topk])\n",
    "        data['target'] = targets\n",
    "        data['label'] = labels\n",
    "    elif fs == 'tf':\n",
    "        data = pd.DataFrame(docs, columns=[c[0] for c in topk] + ['target', 'label'])\n",
    "    \n",
    "    ###########         end         ###########\n",
    "    return data"
   ]
  },
  {
   "cell_type": "code",
   "execution_count": 10,
   "metadata": {},
   "outputs": [
    {
     "name": "stdout",
     "output_type": "stream",
     "text": [
      "processed 1 files\n",
      "processed 5001 files\n",
      "processed 10001 files\n",
      "processed 15001 files\n",
      "Initial Counter update complete...\n",
      "\n",
      "processed 1 files\n",
      "processed 5001 files\n",
      "processed 10001 files\n",
      "processed 15001 files\n",
      "Encoding complete...\n",
      "\n"
     ]
    }
   ],
   "source": [
    "data = dataPreprocessor(k=400, fs='tf', encode='boolean', directorydf=directorydf, size=None)"
   ]
  },
  {
   "cell_type": "code",
   "execution_count": 11,
   "metadata": {
    "collapsed": true
   },
   "outputs": [],
   "source": [
    "# D = len(directorydf)\n",
    "\n",
    "# for col in data:\n",
    "#     if col != 'target' and col != 'label':\n",
    "#         nz_cnts = np.count_nonzero(data[col])\n",
    "#         idf = np.log(D / (1 + nz_cnts))\n",
    "#     #     print(nz_cnts, idf)\n",
    "#         data[col] = data[col].apply(lambda x: x * idf)\n",
    "    "
   ]
  },
  {
   "cell_type": "code",
   "execution_count": 12,
   "metadata": {},
   "outputs": [
    {
     "data": {
      "text/html": [
       "<div>\n",
       "<style>\n",
       "    .dataframe thead tr:only-child th {\n",
       "        text-align: right;\n",
       "    }\n",
       "\n",
       "    .dataframe thead th {\n",
       "        text-align: left;\n",
       "    }\n",
       "\n",
       "    .dataframe tbody tr th {\n",
       "        vertical-align: top;\n",
       "    }\n",
       "</style>\n",
       "<table border=\"1\" class=\"dataframe\">\n",
       "  <thead>\n",
       "    <tr style=\"text-align: right;\">\n",
       "      <th></th>\n",
       "      <th>edu</th>\n",
       "      <th>cmu</th>\n",
       "      <th>com</th>\n",
       "      <th>news</th>\n",
       "      <th>srv</th>\n",
       "      <th>cantaloupe</th>\n",
       "      <th>net</th>\n",
       "      <th>line</th>\n",
       "      <th>message</th>\n",
       "      <th>subject</th>\n",
       "      <th>...</th>\n",
       "      <th>open</th>\n",
       "      <th>mike</th>\n",
       "      <th>play</th>\n",
       "      <th>cause</th>\n",
       "      <th>local</th>\n",
       "      <th>toronto</th>\n",
       "      <th>copy</th>\n",
       "      <th>week</th>\n",
       "      <th>target</th>\n",
       "      <th>label</th>\n",
       "    </tr>\n",
       "  </thead>\n",
       "  <tbody>\n",
       "    <tr>\n",
       "      <th>0</th>\n",
       "      <td>1</td>\n",
       "      <td>1</td>\n",
       "      <td>1</td>\n",
       "      <td>1</td>\n",
       "      <td>1</td>\n",
       "      <td>1</td>\n",
       "      <td>1</td>\n",
       "      <td>1</td>\n",
       "      <td>1</td>\n",
       "      <td>1</td>\n",
       "      <td>...</td>\n",
       "      <td>0</td>\n",
       "      <td>0</td>\n",
       "      <td>0</td>\n",
       "      <td>0</td>\n",
       "      <td>0</td>\n",
       "      <td>0</td>\n",
       "      <td>0</td>\n",
       "      <td>0</td>\n",
       "      <td>0</td>\n",
       "      <td>20_newsgroups\\alt.atheism\\49960</td>\n",
       "    </tr>\n",
       "    <tr>\n",
       "      <th>1</th>\n",
       "      <td>1</td>\n",
       "      <td>1</td>\n",
       "      <td>1</td>\n",
       "      <td>1</td>\n",
       "      <td>1</td>\n",
       "      <td>1</td>\n",
       "      <td>1</td>\n",
       "      <td>1</td>\n",
       "      <td>1</td>\n",
       "      <td>1</td>\n",
       "      <td>...</td>\n",
       "      <td>1</td>\n",
       "      <td>0</td>\n",
       "      <td>1</td>\n",
       "      <td>1</td>\n",
       "      <td>0</td>\n",
       "      <td>0</td>\n",
       "      <td>1</td>\n",
       "      <td>0</td>\n",
       "      <td>0</td>\n",
       "      <td>20_newsgroups\\alt.atheism\\51060</td>\n",
       "    </tr>\n",
       "    <tr>\n",
       "      <th>2</th>\n",
       "      <td>1</td>\n",
       "      <td>1</td>\n",
       "      <td>1</td>\n",
       "      <td>1</td>\n",
       "      <td>1</td>\n",
       "      <td>1</td>\n",
       "      <td>1</td>\n",
       "      <td>1</td>\n",
       "      <td>1</td>\n",
       "      <td>1</td>\n",
       "      <td>...</td>\n",
       "      <td>0</td>\n",
       "      <td>0</td>\n",
       "      <td>0</td>\n",
       "      <td>0</td>\n",
       "      <td>0</td>\n",
       "      <td>0</td>\n",
       "      <td>0</td>\n",
       "      <td>0</td>\n",
       "      <td>0</td>\n",
       "      <td>20_newsgroups\\alt.atheism\\51119</td>\n",
       "    </tr>\n",
       "    <tr>\n",
       "      <th>3</th>\n",
       "      <td>1</td>\n",
       "      <td>1</td>\n",
       "      <td>1</td>\n",
       "      <td>1</td>\n",
       "      <td>1</td>\n",
       "      <td>1</td>\n",
       "      <td>1</td>\n",
       "      <td>1</td>\n",
       "      <td>1</td>\n",
       "      <td>1</td>\n",
       "      <td>...</td>\n",
       "      <td>0</td>\n",
       "      <td>0</td>\n",
       "      <td>0</td>\n",
       "      <td>0</td>\n",
       "      <td>0</td>\n",
       "      <td>0</td>\n",
       "      <td>1</td>\n",
       "      <td>0</td>\n",
       "      <td>0</td>\n",
       "      <td>20_newsgroups\\alt.atheism\\51120</td>\n",
       "    </tr>\n",
       "    <tr>\n",
       "      <th>4</th>\n",
       "      <td>1</td>\n",
       "      <td>1</td>\n",
       "      <td>1</td>\n",
       "      <td>0</td>\n",
       "      <td>1</td>\n",
       "      <td>1</td>\n",
       "      <td>1</td>\n",
       "      <td>1</td>\n",
       "      <td>1</td>\n",
       "      <td>1</td>\n",
       "      <td>...</td>\n",
       "      <td>0</td>\n",
       "      <td>0</td>\n",
       "      <td>0</td>\n",
       "      <td>0</td>\n",
       "      <td>0</td>\n",
       "      <td>0</td>\n",
       "      <td>0</td>\n",
       "      <td>0</td>\n",
       "      <td>0</td>\n",
       "      <td>20_newsgroups\\alt.atheism\\51121</td>\n",
       "    </tr>\n",
       "  </tbody>\n",
       "</table>\n",
       "<p>5 rows × 402 columns</p>\n",
       "</div>"
      ],
      "text/plain": [
       "   edu  cmu  com  news  srv  cantaloupe  net  line  message  subject  \\\n",
       "0    1    1    1     1    1           1    1     1        1        1   \n",
       "1    1    1    1     1    1           1    1     1        1        1   \n",
       "2    1    1    1     1    1           1    1     1        1        1   \n",
       "3    1    1    1     1    1           1    1     1        1        1   \n",
       "4    1    1    1     0    1           1    1     1        1        1   \n",
       "\n",
       "                ...                 open  mike  play  cause  local  toronto  \\\n",
       "0               ...                    0     0     0      0      0        0   \n",
       "1               ...                    1     0     1      1      0        0   \n",
       "2               ...                    0     0     0      0      0        0   \n",
       "3               ...                    0     0     0      0      0        0   \n",
       "4               ...                    0     0     0      0      0        0   \n",
       "\n",
       "   copy  week  target                            label  \n",
       "0     0     0       0  20_newsgroups\\alt.atheism\\49960  \n",
       "1     1     0       0  20_newsgroups\\alt.atheism\\51060  \n",
       "2     0     0       0  20_newsgroups\\alt.atheism\\51119  \n",
       "3     1     0       0  20_newsgroups\\alt.atheism\\51120  \n",
       "4     0     0       0  20_newsgroups\\alt.atheism\\51121  \n",
       "\n",
       "[5 rows x 402 columns]"
      ]
     },
     "execution_count": 12,
     "metadata": {},
     "output_type": "execute_result"
    }
   ],
   "source": [
    "data.head()"
   ]
  },
  {
   "cell_type": "markdown",
   "metadata": {},
   "source": [
    "### (c)"
   ]
  },
  {
   "cell_type": "code",
   "execution_count": 13,
   "metadata": {
    "collapsed": true
   },
   "outputs": [],
   "source": [
    "#Confidence Interval Function\n",
    "# import scipy.stats\n",
    "from math import sqrt\n",
    "def mean_confidence_interval(data, confidence=0.95):\n",
    "    a = 1.0 * np.array(data)\n",
    "    n = len(a)\n",
    "    mu, sd = np.mean(a), np.std(a)\n",
    "    z = stats.t.ppf(confidence, n)\n",
    "    h = z * sd / sqrt(n)\n",
    "    return mu, h"
   ]
  },
  {
   "cell_type": "code",
   "execution_count": 14,
   "metadata": {
    "collapsed": true
   },
   "outputs": [],
   "source": [
    "def randomSplitCI(data, clf, num_run, **params):\n",
    "    \"\"\"\n",
    "    INPUT\n",
    "        data: 2D numpy array. Pre-processed data\n",
    "        clf: string. Name of the classifier from ['LR', 'SVM', 'NB']\n",
    "        num_run: int. How many times you want to run for random evaluation?\n",
    "        params: string->real. Hyper-parameter of classifier. PS: c=1.0, r=0.01\n",
    "    \n",
    "    OUTPUT\n",
    "        train_scores: list. Results of trails\n",
    "        test_scores: list. Results of trails\n",
    "        train_mean: scalar. Average accuracy\n",
    "        test_mean: scalar. Average accuracy\n",
    "        train_ci: scalar. Confidence Interval\n",
    "        test_ci: scalar. Confidence Interval\n",
    "    \"\"\"\n",
    "    \n",
    "    ########### your code goes here ###########\n",
    "    \n",
    "    features = data.iloc[:, :-2].as_matrix()\n",
    "    target = data['target'].as_matrix()\n",
    "    \n",
    "    if clf == 'LR':\n",
    "        clf = LogisticRegression(C=params['c'])\n",
    "    elif clf == 'SVM':\n",
    "        clf = SVC(C=params['c'])\n",
    "    elif clf == 'NB':\n",
    "        clf = GaussianNB()\n",
    "    \n",
    "    train_scores = num_run * [None]\n",
    "    test_scores = num_run * [None]\n",
    "    \n",
    "    for i in range(num_run):\n",
    "        features_train, features_test, target_train, target_test = train_test_split(features, target, test_size=0.3)\n",
    "        clf_model = clf.fit(features_train, target_train)\n",
    "        \n",
    "        target_train_pred = clf_model.predict(features_train)\n",
    "        train_scores[i] = accuracy_score(target_train, target_train_pred)\n",
    "        \n",
    "        target_test_pred = clf_model.predict(features_test)\n",
    "        test_scores[i] = accuracy_score(target_test, target_test_pred)\n",
    "    \n",
    "    train_mean = np.mean(train_scores)\n",
    "    test_mean = np.mean(test_scores)\n",
    "    _, train_ci = mean_confidence_interval(train_scores)\n",
    "    _, test_ci = mean_confidence_interval(test_scores)\n",
    "\n",
    "    ###########         end         ###########\n",
    "    return train_scores, test_scores, train_mean, test_mean, train_ci, test_ci\n",
    "    "
   ]
  },
  {
   "cell_type": "code",
   "execution_count": 15,
   "metadata": {},
   "outputs": [
    {
     "name": "stdout",
     "output_type": "stream",
     "text": [
      "Train    \n",
      "Result of trails:[0.96299206972922768, 0.96163463599342713, 0.96113452882760586, 0.96263485032506968, 0.96420661570336497, 0.96234907480174325, 0.96313495749089095, 0.96334928913338569, 0.96292062584839611, 0.96356362077588054]     \n",
      "Average Accuracy: 0.9627920268628992     \n",
      "Confidence Interval: 0.0004926721629296488\n",
      "\n",
      "Test    \n",
      "Result of trails:[0.95216666666666672, 0.95483333333333331, 0.95450000000000002, 0.95316666666666672, 0.94983333333333331, 0.95466666666666666, 0.94966666666666666, 0.94983333333333331, 0.95216666666666672, 0.95299999999999996]     \n",
      "Average Accuracy: 0.9523833333333332     \n",
      "Confidence Interval: 0.0011049986176420788\n"
     ]
    }
   ],
   "source": [
    "train_scores, test_scores, train_mean, test_mean, train_ci, test_ci = randomSplitCI(data, 'LR', 10, c=0.01)\n",
    "print(\"Train\\\n",
    "    \\nResult of trails:{0} \\\n",
    "    \\nAverage Accuracy: {1} \\\n",
    "    \\nConfidence Interval: {2}\\n\".format(train_scores, train_mean, train_ci)\n",
    "     )\n",
    "print(\"Test\\\n",
    "    \\nResult of trails:{0} \\\n",
    "    \\nAverage Accuracy: {1} \\\n",
    "    \\nConfidence Interval: {2}\".format(test_scores, test_mean, test_ci)\n",
    "     )"
   ]
  },
  {
   "cell_type": "markdown",
   "metadata": {},
   "source": [
    "### (d)"
   ]
  },
  {
   "cell_type": "markdown",
   "metadata": {
    "collapsed": true
   },
   "source": [
    "Yes. In only a single trial, it does not take advantage of using the entire datasets because the data used for the testing is not contributed to your model training. With multiple randomized trials, you potentially use different training data in each trial from all the samples thus you will be able to see a general performance of the classifier in terms of the average accuracy and the confidence interval. The more trials we run, the smaller CI suggesting the average accuracy is closer to the true accuracy."
   ]
  },
  {
   "cell_type": "markdown",
   "metadata": {},
   "source": [
    "### (e)"
   ]
  },
  {
   "cell_type": "code",
   "execution_count": 16,
   "metadata": {
    "collapsed": true
   },
   "outputs": [],
   "source": [
    "def randomSplitCM(data, clf, num_run, **params):\n",
    "    \"\"\"\n",
    "    INPUT\n",
    "        data: Dataframe. Pre-processed data\n",
    "        clf: string. Name of the classifier from ['LR', 'SVM', 'NB']\n",
    "        params: string->real. Hyper-parameter of classifier. PS: c=1.0, r=0.01\n",
    "    \n",
    "    OUTPUT\n",
    "        cm: pandas.DataFrame. Confusion Matrix\n",
    "    \"\"\"\n",
    "    \n",
    "    ########### your code goes here ###########\n",
    "    cms = {}\n",
    "    \n",
    "    features = data.iloc[:, :-2].as_matrix()\n",
    "    target = data['target'].as_matrix()\n",
    "    \n",
    "    if clf == 'LR':\n",
    "        clf = LogisticRegression(C=params['c'])\n",
    "    elif clf == 'SVM':\n",
    "        clf = SVC(C=params['c'])\n",
    "    elif clf == 'NB':\n",
    "        clf = GaussianNB()\n",
    "    \n",
    "    for i in range(num_run):\n",
    "        features_train, features_test, target_train, target_test = train_test_split(features, target, test_size=0.3)\n",
    "        clf_model = clf.fit(features_train, target_train)\n",
    "        target_pred = clf_model.predict(features_test)\n",
    "        \n",
    "        cms[i] = pd.DataFrame(metrics.confusion_matrix(target_test, target_pred))\n",
    "\n",
    "    pl = pd.Panel(cms)\n",
    "    cm = pl.sum(axis=0) #Sum the confusion matrices to get one view of how well the classifiers perform\n",
    "    \n",
    "    \n",
    "    ###########         end         ###########\n",
    "    return cm"
   ]
  },
  {
   "cell_type": "code",
   "execution_count": 17,
   "metadata": {},
   "outputs": [
    {
     "name": "stderr",
     "output_type": "stream",
     "text": [
      "C:\\Anaconda\\envs\\py35\\lib\\site-packages\\ipykernel\\__main__.py:1: DeprecationWarning: \n",
      "Panel is deprecated and will be removed in a future version.\n",
      "The recommended way to represent these types of 3-dimensional data are with a MultiIndex on a DataFrame, via the Panel.to_frame() method\n",
      "Alternatively, you can use the xarray package http://xarray.pydata.org/en/stable/.\n",
      "Pandas provides a `.to_xarray()` method to help automate this conversion.\n",
      "\n",
      "  if __name__ == '__main__':\n"
     ]
    }
   ],
   "source": [
    "cm = randomSplitCM(data, 'LR', 10, c=0.01)"
   ]
  },
  {
   "cell_type": "markdown",
   "metadata": {},
   "source": [
    "### (f)"
   ]
  },
  {
   "cell_type": "code",
   "execution_count": 18,
   "metadata": {},
   "outputs": [
    {
     "data": {
      "text/plain": [
       "<matplotlib.axes._subplots.AxesSubplot at 0x21e1ef1d160>"
      ]
     },
     "execution_count": 18,
     "metadata": {},
     "output_type": "execute_result"
    },
    {
     "data": {
      "image/png": "[encoded data removed]",
      "text/plain": [
       "<matplotlib.figure.Figure at 0x21e19d0dac8>"
      ]
     },
     "metadata": {},
     "output_type": "display_data"
    }
   ],
   "source": [
    "sns.heatmap(cm)"
   ]
  },
  {
   "cell_type": "markdown",
   "metadata": {},
   "source": [
    "As seen above, the classes such as 16, 18 and 19 have aggregated with more confusions. Topics 16, 18, 19 are talk.politics.guns, talk.politics.misc, talk.religion.misc, which inherently relate to similar subject. There is also a heat spot between topic 0 (alt.atheism) and topic 19 (talk.religion.misc) due to their similarity in the context as well."
   ]
  },
  {
   "cell_type": "markdown",
   "metadata": {},
   "source": [
    "## Q2"
   ]
  },
  {
   "cell_type": "markdown",
   "metadata": {},
   "source": [
    "### (a)"
   ]
  },
  {
   "cell_type": "code",
   "execution_count": 19,
   "metadata": {
    "collapsed": true
   },
   "outputs": [],
   "source": [
    "def featureSizeAC(data, clf, num_run, **params):\n",
    "    \"\"\"\n",
    "    INPUT\n",
    "        data: Dataframe. Pre-processed data\n",
    "        clf: string. Name of the classifier from ['LR', 'SVM', 'NB']\n",
    "        params: string->real. Hyper-parameter of classifier. PS: c=1.0, r=0.01\n",
    "    \n",
    "    OUTPUT\n",
    "        train_mean_fs: list.\n",
    "        train_ci_fs: list.\n",
    "        test_mean_fs: list.\n",
    "        test_ci_fs: list.\n",
    "        \n",
    "    \"\"\"\n",
    "    feature_precentage = np.linspace(0.1, 1, 10, endpoint=True)\n",
    "    \n",
    "    ########### your code goes here ###########\n",
    "    \n",
    "    N_fp = len(feature_precentage)\n",
    "    train_mean_fs = N_fp * [None]\n",
    "    test_mean_fs = N_fp * [None]\n",
    "    train_ci_fs = N_fp * [None]\n",
    "    test_ci_fs = N_fp * [None]\n",
    "    \n",
    "    # Total feature size\n",
    "    M = len(data.columns) - 2\n",
    "    \n",
    "    if clf == 'LR':\n",
    "        clf = LogisticRegression(C=params['c'])\n",
    "    elif clf == 'SVM':\n",
    "        clf = SVC(C=params['c'])\n",
    "    elif clf == 'NB':\n",
    "        clf = GaussianNB()\n",
    "    \n",
    "    features = data.iloc[:, :-2].as_matrix()\n",
    "    target = data['target'].as_matrix()\n",
    "    \n",
    "    for j, fp in enumerate(feature_precentage):\n",
    "        m = int(M * fp)\n",
    "            \n",
    "        train_scores = num_run * [None]\n",
    "        test_scores = num_run * [None]\n",
    "    \n",
    "        for i in range(num_run):\n",
    "            features_train, features_test, target_train, target_test = train_test_split(features[:, :m], target, test_size=0.3)\n",
    "            clf_model = clf.fit(features_train, target_train)\n",
    "\n",
    "            target_train_pred = clf_model.predict(features_train)\n",
    "            train_scores[i] = accuracy_score(target_train, target_train_pred)\n",
    "\n",
    "            target_test_pred = clf_model.predict(features_test)\n",
    "            test_scores[i] = accuracy_score(target_test, target_test_pred)\n",
    "        \n",
    "        train_mean_fs[j] = np.mean(train_scores)\n",
    "        test_mean_fs[j] = np.mean(test_scores)\n",
    "        train_ci_fs[j] = mean_confidence_interval(train_scores)[1]\n",
    "        test_ci_fs[j] = mean_confidence_interval(test_scores)[1]\n",
    "\n",
    "    ###########         end         ###########\n",
    "    return train_mean_fs, train_ci_fs, test_mean_fs, test_ci_fs"
   ]
  },
  {
   "cell_type": "code",
   "execution_count": 20,
   "metadata": {
    "collapsed": true
   },
   "outputs": [],
   "source": [
    "train_mean_fs, train_ci_fs, test_mean_fs, test_ci_fs = featureSizeAC(data, 'LR', 5, c=0.01)"
   ]
  },
  {
   "cell_type": "markdown",
   "metadata": {},
   "source": [
    "### (b)"
   ]
  },
  {
   "cell_type": "code",
   "execution_count": 21,
   "metadata": {
    "collapsed": true
   },
   "outputs": [],
   "source": [
    "def featureSizePlot(feature_size, train_mean_fs, train_ci_fs, test_mean_fs, test_ci_fs):\n",
    "    # First illustrate basic pyplot interface, using defaults where possible.\n",
    "    plt.figure()\n",
    "    test_curve = plt.errorbar(feature_size, test_mean_fs, color=sns.xkcd_rgb[\"pale red\"], yerr=test_ci_fs)\n",
    "    train_curve = plt.errorbar(feature_size, train_mean_fs, color=sns.xkcd_rgb[\"denim blue\"], yerr=train_ci_fs)\n",
    "    plt.legend([test_curve, train_curve], ['Test', 'Train'])\n",
    "    plt.xlabel('Feature Percentage')\n",
    "    plt.ylabel('Accuracy')\n",
    "    plt.title(\"Accuracy vs Feature Size\")\n",
    "    plt.show()"
   ]
  },
  {
   "cell_type": "code",
   "execution_count": 22,
   "metadata": {},
   "outputs": [
    {
     "data": {
      "image/png": "[encoded data removed]",
      "text/plain": [
       "<matplotlib.figure.Figure at 0x21e1e63c518>"
      ]
     },
     "metadata": {},
     "output_type": "display_data"
    }
   ],
   "source": [
    "featureSizePlot(np.linspace(0.1, 1, 10, endpoint=True), train_mean_fs, train_ci_fs, test_mean_fs, test_ci_fs)"
   ]
  },
  {
   "cell_type": "markdown",
   "metadata": {},
   "source": [
    "In the overall 400 features, it is found the higher in the feature size, the better performance."
   ]
  },
  {
   "cell_type": "markdown",
   "metadata": {},
   "source": [
    "## Q3"
   ]
  },
  {
   "cell_type": "code",
   "execution_count": 23,
   "metadata": {
    "collapsed": true
   },
   "outputs": [],
   "source": [
    "def hyperParameterAC(data, clf, num_run):\n",
    "    \"\"\"\n",
    "    INPUT\n",
    "        data: Dataframe. Pre-processed data\n",
    "        clf: string. Name of the classifier from ['LR', 'SVM', 'NB']\n",
    "    \n",
    "    OUTPUT\n",
    "        test_mean_hp: list.  mean accuracy list of test\n",
    "        test_ci_hp: list. confidence interval list of test\n",
    "        train_mean_hp: list. mean accuracy list of train\n",
    "        train_ci_hp: list. confidence interval list of train\n",
    "        \n",
    "    NOTE \n",
    "        randomSplitCI could be the sub-route of this function\n",
    "    \"\"\"\n",
    "    params = np.logspace(-4, 4, num=9)\n",
    "    \n",
    "    ########### your code goes here ###########\n",
    "    \n",
    "    N_hp = len(params)\n",
    "    train_mean_hp = N_hp * [None]\n",
    "    test_mean_hp = N_hp * [None]\n",
    "    train_ci_hp = N_hp * [None]\n",
    "    test_ci_hp = N_hp * [None]\n",
    "\n",
    "    for i, hp in enumerate(params):\n",
    "        _, _, train_mean, test_mean, train_ci, test_ci = randomSplitCI(data, clf, num_run, c=hp)\n",
    "        \n",
    "        train_mean_hp[i] = train_mean\n",
    "        test_mean_hp[i] = test_mean\n",
    "        train_ci_hp[i] = train_ci\n",
    "        test_ci_hp[i] = test_ci\n",
    "    \n",
    "    ###########         end         ###########\n",
    "    return train_mean_hp, train_ci_hp, test_mean_hp, test_ci_hp"
   ]
  },
  {
   "cell_type": "code",
   "execution_count": 24,
   "metadata": {
    "collapsed": true
   },
   "outputs": [],
   "source": [
    "train_mean_hp, train_ci_hp, test_mean_hp, test_ci_hp = hyperParameterAC(data, 'LR', 3)"
   ]
  },
  {
   "cell_type": "code",
   "execution_count": 25,
   "metadata": {
    "collapsed": true
   },
   "outputs": [],
   "source": [
    "def hyperParameterPlot(params, train_mean_hp, train_ci_hp, test_mean_hp, test_ci_hp):\n",
    "    # First illustrate basic pyplot interface, using defaults where possible.\n",
    "    plt.figure()\n",
    "    test_curve = plt.errorbar(params, test_mean_hp, color=sns.xkcd_rgb[\"pale red\"], yerr=test_ci_hp)\n",
    "    train_curve = plt.errorbar(params, train_mean_hp, color=sns.xkcd_rgb[\"denim blue\"], yerr=train_ci_hp)\n",
    "    plt.legend([test_curve, train_curve], ['Test', 'Train'])\n",
    "    plt.xlabel('Parameter')\n",
    "    plt.xscale(\"log\")\n",
    "    plt.ylabel('Accuracy')\n",
    "    plt.title(\"Accuracy vs Parameters\")\n",
    "    plt.show()"
   ]
  },
  {
   "cell_type": "code",
   "execution_count": 26,
   "metadata": {},
   "outputs": [
    {
     "data": {
      "image/png": "[encoded data removed]",
      "text/plain": [
       "<matplotlib.figure.Figure at 0x21e1ef47a20>"
      ]
     },
     "metadata": {},
     "output_type": "display_data"
    }
   ],
   "source": [
    "hyperParameterPlot(np.logspace(-4, 4, num=9), train_mean_hp, train_ci_hp, test_mean_hp, test_ci_hp )"
   ]
  },
  {
   "cell_type": "markdown",
   "metadata": {},
   "source": [
    "The optimal hyperparameter is found to be 0.01 as seen above, because overfitting occurs as the hyperparameter increases."
   ]
  },
  {
   "cell_type": "markdown",
   "metadata": {},
   "source": [
    "## Q4"
   ]
  },
  {
   "cell_type": "markdown",
   "metadata": {},
   "source": [
    "### (a)"
   ]
  },
  {
   "cell_type": "code",
   "execution_count": 27,
   "metadata": {
    "collapsed": true
   },
   "outputs": [],
   "source": [
    "def dataSizeAC(data, clf, num_run):\n",
    "    \"\"\"\n",
    "    INPUT\n",
    "        data: Dataframe. Pre-processed data\n",
    "        clf: string. Name of the classifier from ['LR', 'SVM', 'NB']\n",
    "        params: string->real. Hyper-parameter of classifier. PS: c=1.0, r=0.01\n",
    "    \n",
    "    OUTPUT\n",
    "        test_mean_ds: list.  mean accuracy list of test\n",
    "        test_ci_ds: list. confidence interval list of test\n",
    "        train_mean_ds: list. mean accuracy list of train\n",
    "        train_ci_ds: list. confidence interval list of train\n",
    "        \n",
    "        \n",
    "        \n",
    "    NOTE \n",
    "        randomSplitCI could be the sub-route of this function\n",
    "    \"\"\"\n",
    "    data_precentage = np.linspace(0.1, 1, 10, endpoint=True)\n",
    "    \n",
    "    ########### your code goes here ###########\n",
    "    \n",
    "    N_ds = len(data_precentage)\n",
    "    train_mean_ds = N_ds * [None]\n",
    "    test_mean_ds = N_ds * [None]\n",
    "    train_ci_ds = N_ds * [None]\n",
    "    test_ci_ds = N_ds * [None]\n",
    "    \n",
    "    if clf == 'LR':\n",
    "        clf = LogisticRegression(C=0.01)\n",
    "    elif clf == 'SVM':\n",
    "        clf = SVC()\n",
    "    elif clf == 'NB':\n",
    "        clf = GaussianNB()\n",
    "    \n",
    "    features = data.iloc[:, :-2].as_matrix()\n",
    "    target = data['target'].as_matrix()\n",
    "    \n",
    "    for j, ds in enumerate(data_precentage):\n",
    "        \n",
    "        train_scores = num_run * [None]\n",
    "        test_scores = num_run * [None]\n",
    "    \n",
    "        for i in range(num_run):\n",
    "            features_train, features_test, target_train, target_test = train_test_split(features, target, \n",
    "                                                                                        train_size=0.7 * ds, test_size=0.3)\n",
    "            clf_model = clf.fit(features_train, target_train)\n",
    "\n",
    "            target_train_pred = clf_model.predict(features_train)\n",
    "            train_scores[i] = accuracy_score(target_train, target_train_pred)\n",
    "\n",
    "            target_test_pred = clf_model.predict(features_test)\n",
    "            test_scores[i] = accuracy_score(target_test, target_test_pred)\n",
    "        \n",
    "        train_mean_ds[j] = np.mean(train_scores)\n",
    "        test_mean_ds[j] = np.mean(test_scores)\n",
    "        train_ci_ds[j] = mean_confidence_interval(train_scores)[1]\n",
    "        test_ci_ds[j] = mean_confidence_interval(test_scores)[1]\n",
    "\n",
    " \n",
    "    ###########         end         ###########\n",
    "    return train_mean_ds, train_ci_ds, test_mean_ds, test_ci_ds"
   ]
  },
  {
   "cell_type": "code",
   "execution_count": 28,
   "metadata": {
    "collapsed": true
   },
   "outputs": [],
   "source": [
    "train_mean_ds, train_ci_ds, test_mean_ds, test_ci_ds = dataSizeAC(data, 'LR', 3)"
   ]
  },
  {
   "cell_type": "markdown",
   "metadata": {},
   "source": [
    "### (b)"
   ]
  },
  {
   "cell_type": "code",
   "execution_count": 29,
   "metadata": {
    "collapsed": true
   },
   "outputs": [],
   "source": [
    "def dataSizePlot(datasize, train_mean_ds, train_ci_ds, test_mean_ds, test_ci_ds):\n",
    "    # First illustrate basic pyplot interface, using defaults where possible.\n",
    "    plt.figure()\n",
    "    test_curve = plt.errorbar(datasize, test_mean_ds, color=sns.xkcd_rgb[\"pale red\"], yerr=test_ci_ds)\n",
    "    train_curve = plt.errorbar(datasize, train_mean_ds, color=sns.xkcd_rgb[\"denim blue\"], yerr=train_ci_ds)\n",
    "    plt.legend([test_curve, train_curve], ['Test', 'Train'])\n",
    "    plt.xlabel('Data Percentage')\n",
    "    plt.ylabel('Accuracy')\n",
    "    plt.title(\"Accuracy vs Data Percentage\")\n",
    "    plt.show()"
   ]
  },
  {
   "cell_type": "code",
   "execution_count": 30,
   "metadata": {},
   "outputs": [
    {
     "data": {
      "image/png": "[encoded data removed]",
      "text/plain": [
       "<matplotlib.figure.Figure at 0x21e1eaed898>"
      ]
     },
     "metadata": {},
     "output_type": "display_data"
    }
   ],
   "source": [
    "dataSizePlot(np.linspace(0.1, 1, 10, endpoint=True), train_mean_ds, train_ci_ds, test_mean_ds, test_ci_ds)"
   ]
  },
  {
   "cell_type": "markdown",
   "metadata": {},
   "source": [
    "As seen, the higher data percentage of the training data being used the better the performance is."
   ]
  },
  {
   "cell_type": "markdown",
   "metadata": {},
   "source": [
    "## Q5"
   ]
  },
  {
   "cell_type": "markdown",
   "metadata": {},
   "source": [
    "### (a)"
   ]
  },
  {
   "cell_type": "markdown",
   "metadata": {},
   "source": [
    "### Data encoded by 'tf'"
   ]
  },
  {
   "cell_type": "code",
   "execution_count": 31,
   "metadata": {},
   "outputs": [
    {
     "name": "stdout",
     "output_type": "stream",
     "text": [
      "processed 1 files\n",
      "processed 5001 files\n",
      "processed 10001 files\n",
      "processed 15001 files\n",
      "Initial Counter update complete...\n",
      "\n",
      "processed 1 files\n",
      "processed 5001 files\n",
      "processed 10001 files\n",
      "processed 15001 files\n",
      "Encoding complete...\n",
      "\n"
     ]
    },
    {
     "data": {
      "text/html": [
       "<div>\n",
       "<style>\n",
       "    .dataframe thead tr:only-child th {\n",
       "        text-align: right;\n",
       "    }\n",
       "\n",
       "    .dataframe thead th {\n",
       "        text-align: left;\n",
       "    }\n",
       "\n",
       "    .dataframe tbody tr th {\n",
       "        vertical-align: top;\n",
       "    }\n",
       "</style>\n",
       "<table border=\"1\" class=\"dataframe\">\n",
       "  <thead>\n",
       "    <tr style=\"text-align: right;\">\n",
       "      <th></th>\n",
       "      <th>edu</th>\n",
       "      <th>cmu</th>\n",
       "      <th>com</th>\n",
       "      <th>news</th>\n",
       "      <th>srv</th>\n",
       "      <th>cantaloupe</th>\n",
       "      <th>net</th>\n",
       "      <th>line</th>\n",
       "      <th>message</th>\n",
       "      <th>subject</th>\n",
       "      <th>...</th>\n",
       "      <th>open</th>\n",
       "      <th>mike</th>\n",
       "      <th>play</th>\n",
       "      <th>cause</th>\n",
       "      <th>local</th>\n",
       "      <th>toronto</th>\n",
       "      <th>copy</th>\n",
       "      <th>week</th>\n",
       "      <th>target</th>\n",
       "      <th>label</th>\n",
       "    </tr>\n",
       "  </thead>\n",
       "  <tbody>\n",
       "    <tr>\n",
       "      <th>0</th>\n",
       "      <td>10</td>\n",
       "      <td>5</td>\n",
       "      <td>1</td>\n",
       "      <td>4</td>\n",
       "      <td>3</td>\n",
       "      <td>2</td>\n",
       "      <td>2</td>\n",
       "      <td>2</td>\n",
       "      <td>1</td>\n",
       "      <td>2</td>\n",
       "      <td>...</td>\n",
       "      <td>0</td>\n",
       "      <td>0</td>\n",
       "      <td>0</td>\n",
       "      <td>0</td>\n",
       "      <td>0</td>\n",
       "      <td>0</td>\n",
       "      <td>0</td>\n",
       "      <td>0</td>\n",
       "      <td>0</td>\n",
       "      <td>20_newsgroups\\alt.atheism\\49960</td>\n",
       "    </tr>\n",
       "  </tbody>\n",
       "</table>\n",
       "<p>1 rows × 402 columns</p>\n",
       "</div>"
      ],
      "text/plain": [
       "   edu  cmu  com  news  srv  cantaloupe  net  line  message  subject  \\\n",
       "0   10    5    1     4    3           2    2     2        1        2   \n",
       "\n",
       "                ...                 open  mike  play  cause  local  toronto  \\\n",
       "0               ...                    0     0     0      0      0        0   \n",
       "\n",
       "   copy  week  target                            label  \n",
       "0     0     0       0  20_newsgroups\\alt.atheism\\49960  \n",
       "\n",
       "[1 rows x 402 columns]"
      ]
     },
     "execution_count": 31,
     "metadata": {},
     "output_type": "execute_result"
    }
   ],
   "source": [
    "data_tf = dataPreprocessor(k=400, fs='tf', encode='tf', directorydf=directorydf, size=None)\n",
    "data_tf.head(n=1)"
   ]
  },
  {
   "cell_type": "markdown",
   "metadata": {},
   "source": [
    "### Data encoded by 'boolean'"
   ]
  },
  {
   "cell_type": "code",
   "execution_count": 32,
   "metadata": {},
   "outputs": [
    {
     "data": {
      "text/html": [
       "<div>\n",
       "<style>\n",
       "    .dataframe thead tr:only-child th {\n",
       "        text-align: right;\n",
       "    }\n",
       "\n",
       "    .dataframe thead th {\n",
       "        text-align: left;\n",
       "    }\n",
       "\n",
       "    .dataframe tbody tr th {\n",
       "        vertical-align: top;\n",
       "    }\n",
       "</style>\n",
       "<table border=\"1\" class=\"dataframe\">\n",
       "  <thead>\n",
       "    <tr style=\"text-align: right;\">\n",
       "      <th></th>\n",
       "      <th>edu</th>\n",
       "      <th>cmu</th>\n",
       "      <th>com</th>\n",
       "      <th>news</th>\n",
       "      <th>srv</th>\n",
       "      <th>cantaloupe</th>\n",
       "      <th>net</th>\n",
       "      <th>line</th>\n",
       "      <th>message</th>\n",
       "      <th>subject</th>\n",
       "      <th>...</th>\n",
       "      <th>open</th>\n",
       "      <th>mike</th>\n",
       "      <th>play</th>\n",
       "      <th>cause</th>\n",
       "      <th>local</th>\n",
       "      <th>toronto</th>\n",
       "      <th>copy</th>\n",
       "      <th>week</th>\n",
       "      <th>target</th>\n",
       "      <th>label</th>\n",
       "    </tr>\n",
       "  </thead>\n",
       "  <tbody>\n",
       "    <tr>\n",
       "      <th>0</th>\n",
       "      <td>1</td>\n",
       "      <td>1</td>\n",
       "      <td>1</td>\n",
       "      <td>1</td>\n",
       "      <td>1</td>\n",
       "      <td>1</td>\n",
       "      <td>1</td>\n",
       "      <td>1</td>\n",
       "      <td>1</td>\n",
       "      <td>1</td>\n",
       "      <td>...</td>\n",
       "      <td>0</td>\n",
       "      <td>0</td>\n",
       "      <td>0</td>\n",
       "      <td>0</td>\n",
       "      <td>0</td>\n",
       "      <td>0</td>\n",
       "      <td>0</td>\n",
       "      <td>0</td>\n",
       "      <td>0</td>\n",
       "      <td>20_newsgroups\\alt.atheism\\49960</td>\n",
       "    </tr>\n",
       "  </tbody>\n",
       "</table>\n",
       "<p>1 rows × 402 columns</p>\n",
       "</div>"
      ],
      "text/plain": [
       "   edu  cmu  com  news  srv  cantaloupe  net  line  message  subject  \\\n",
       "0    1    1    1     1    1           1    1     1        1        1   \n",
       "\n",
       "                ...                 open  mike  play  cause  local  toronto  \\\n",
       "0               ...                    0     0     0      0      0        0   \n",
       "\n",
       "   copy  week  target                            label  \n",
       "0     0     0       0  20_newsgroups\\alt.atheism\\49960  \n",
       "\n",
       "[1 rows x 402 columns]"
      ]
     },
     "execution_count": 32,
     "metadata": {},
     "output_type": "execute_result"
    }
   ],
   "source": [
    "data.head(n=1)"
   ]
  },
  {
   "cell_type": "markdown",
   "metadata": {},
   "source": [
    "### (b)"
   ]
  },
  {
   "cell_type": "markdown",
   "metadata": {},
   "source": [
    "### Raw TF vs Binary TF"
   ]
  },
  {
   "cell_type": "code",
   "execution_count": 33,
   "metadata": {},
   "outputs": [
    {
     "name": "stdout",
     "output_type": "stream",
     "text": [
      "Raw TF Test    \n",
      "Average Accuracy: 0.9345166666666666     \n",
      "Confidence Interval: [0.93358712361761886, 0.93544620971571424]\n",
      "Binary TF Test    \n",
      "Average Accuracy: 0.95235     \n",
      "Confidence Interval: [0.95136423847597706, 0.953335761524023]\n"
     ]
    }
   ],
   "source": [
    "_, _, _, test_mean_tf, _, test_ci_tf = randomSplitCI(data_tf, 'LR', 10, c=0.01)\n",
    "_, _, _, test_mean_bi, _, test_ci_bi = randomSplitCI(data, 'LR', 10, c=0.01)\n",
    "\n",
    "print(\"Raw TF Test\\\n",
    "    \\nAverage Accuracy: {0} \\\n",
    "    \\nConfidence Interval: {1}\".format(test_mean_tf, [test_mean_tf - test_ci_tf, test_mean_tf + test_ci_tf])\n",
    "     )\n",
    "print(\"Binary TF Test\\\n",
    "    \\nAverage Accuracy: {0} \\\n",
    "    \\nConfidence Interval: {1}\".format(test_mean_bi, [test_mean_bi - test_ci_bi, test_mean_bi + test_ci_bi])\n",
    "     )\n"
   ]
  },
  {
   "cell_type": "code",
   "execution_count": 34,
   "metadata": {
    "collapsed": true
   },
   "outputs": [],
   "source": [
    "def compare_plot(mean_1, ci_1, mean_2, ci_2, leg=[\"A\", \"B\"]):\n",
    "    # First illustrate basic pyplot interface, using defaults where possible.\n",
    "    plt.figure()\n",
    "    pt_1 = plt.errorbar([0], mean_1, color=sns.xkcd_rgb[\"pale red\"], yerr=ci_1, fmt='o')\n",
    "    pt_2 = plt.errorbar([0], mean_2, color=sns.xkcd_rgb[\"denim blue\"], yerr=ci_2, fmt='o')\n",
    "    plt.legend([pt_1, pt_2], leg)\n",
    "#     plt.xlabel('')\n",
    "    plt.ylabel('Accuracy')\n",
    "    plt.title(\"Non-overlapping CI Accuracy Comparison\")\n",
    "    plt.show()"
   ]
  },
  {
   "cell_type": "code",
   "execution_count": 35,
   "metadata": {},
   "outputs": [
    {
     "data": {
      "image/png": "[encoded data removed]",
      "text/plain": [
       "<matplotlib.figure.Figure at 0x21e1e8857f0>"
      ]
     },
     "metadata": {},
     "output_type": "display_data"
    }
   ],
   "source": [
    "compare_plot(test_mean_tf, test_ci_tf, test_mean_bi, test_ci_bi, leg=[\"Raw TF\", \"Binary TF\"])"
   ]
  },
  {
   "cell_type": "markdown",
   "metadata": {},
   "source": [
    "As seen above, the data encoded with binary term frequncy performs slightly better, which is due to the fact that binary encoding method forces the features to be normalized to a same scale (i.e. 0 or 1), more friendly for the classifier."
   ]
  },
  {
   "cell_type": "markdown",
   "metadata": {},
   "source": [
    "## Q6"
   ]
  },
  {
   "cell_type": "markdown",
   "metadata": {},
   "source": [
    "### (a)"
   ]
  },
  {
   "cell_type": "markdown",
   "metadata": {
    "collapsed": true
   },
   "source": [
    "### NB vs LR"
   ]
  },
  {
   "cell_type": "code",
   "execution_count": 36,
   "metadata": {},
   "outputs": [
    {
     "name": "stdout",
     "output_type": "stream",
     "text": [
      "NB Test    \n",
      "Average Accuracy: 0.9258166666666666     \n",
      "Confidence Interval: [0.92048119067807144, 0.93115214265526181]\n",
      "LR Test    \n",
      "Average Accuracy: 0.9521833333333334     \n",
      "Confidence Interval: [0.95077004618415972, 0.95359662048250704]\n"
     ]
    }
   ],
   "source": [
    "_, _, _, test_mean_nb, _, test_ci_nb = randomSplitCI(data, 'NB', 10, c=0.01)\n",
    "_, _, _, test_mean_lr, _, test_ci_lr = randomSplitCI(data, 'LR', 10, c=0.01)\n",
    "\n",
    "print(\"NB Test\\\n",
    "    \\nAverage Accuracy: {0} \\\n",
    "    \\nConfidence Interval: {1}\".format(test_mean_nb, [test_mean_nb - test_ci_nb, test_mean_nb + test_ci_nb])\n",
    "     )\n",
    "print(\"LR Test\\\n",
    "    \\nAverage Accuracy: {0} \\\n",
    "    \\nConfidence Interval: {1}\".format(test_mean_lr, [test_mean_lr - test_ci_lr, test_mean_lr + test_ci_lr])\n",
    "     )"
   ]
  },
  {
   "cell_type": "code",
   "execution_count": 37,
   "metadata": {},
   "outputs": [
    {
     "data": {
      "image/png": "[encoded data removed]",
      "text/plain": [
       "<matplotlib.figure.Figure at 0x21e1ed8a4a8>"
      ]
     },
     "metadata": {},
     "output_type": "display_data"
    }
   ],
   "source": [
    "compare_plot(test_mean_nb, test_ci_nb, test_mean_lr, test_ci_lr, leg=[\"NB\", \"LR\"])"
   ]
  },
  {
   "cell_type": "markdown",
   "metadata": {
    "collapsed": true
   },
   "source": [
    "The NB places a strong assumption of conditionally independence between the features, which in reality does not hold but close, indicating NB has a higher bias or lower variance compared to LR."
   ]
  },
  {
   "cell_type": "markdown",
   "metadata": {},
   "source": [
    "# Binary LR Classification for \"sci.space\""
   ]
  },
  {
   "cell_type": "markdown",
   "metadata": {},
   "source": [
    "## Q1"
   ]
  },
  {
   "cell_type": "markdown",
   "metadata": {},
   "source": [
    "### (a)"
   ]
  },
  {
   "cell_type": "markdown",
   "metadata": {},
   "source": [
    "i) For features preparation, we use a binary term frequency-based unigram model to encode the text documents. I think the unigram term frequency encoding method is a reasonable first step to start with, which is straightforward to implement. The binary encoding method allows the features to be normalized to the same scale (0 or 1), which is highly desirable for some classifier, such as SVM and NB.\n",
    "\n",
    "In the preprocessing part, we firstly use lowercase unification to avoid case-sensitivity. Secondly, the stop words are removed in the text. It is observed there are plenty of 2-letter word tokens that does not make much sense, possibly due to the lowercase of acronyms, which are removed as well. Finaly, a lemmatizer is applied in order to merge the similar words together.\n",
    "\n",
    "ii) Feature ranking is based on the frequency of all the words updated from the entire document collection, the higher term frequency of a word, the higher ranking, which suggests potentially higher relevance in the context.\n",
    "\n",
    "iii) The number of features selected directly affects the performance of a classification. Here it should be sufficiently large for the model in order to capture the essence, and computional-wise less expensive. Here, we use the top 400 words for the features."
   ]
  },
  {
   "cell_type": "markdown",
   "metadata": {},
   "source": [
    "### (b)"
   ]
  },
  {
   "cell_type": "code",
   "execution_count": 38,
   "metadata": {
    "collapsed": true
   },
   "outputs": [],
   "source": [
    "new_data = data.copy()\n",
    "new_data['target'] = label_binarize(new_data['target'], classes=[14])"
   ]
  },
  {
   "cell_type": "code",
   "execution_count": 39,
   "metadata": {
    "scrolled": false
   },
   "outputs": [
    {
     "data": {
      "text/html": [
       "<div>\n",
       "<style>\n",
       "    .dataframe thead tr:only-child th {\n",
       "        text-align: right;\n",
       "    }\n",
       "\n",
       "    .dataframe thead th {\n",
       "        text-align: left;\n",
       "    }\n",
       "\n",
       "    .dataframe tbody tr th {\n",
       "        vertical-align: top;\n",
       "    }\n",
       "</style>\n",
       "<table border=\"1\" class=\"dataframe\">\n",
       "  <thead>\n",
       "    <tr style=\"text-align: right;\">\n",
       "      <th></th>\n",
       "      <th>edu</th>\n",
       "      <th>cmu</th>\n",
       "      <th>com</th>\n",
       "      <th>news</th>\n",
       "      <th>srv</th>\n",
       "      <th>cantaloupe</th>\n",
       "      <th>net</th>\n",
       "      <th>line</th>\n",
       "      <th>message</th>\n",
       "      <th>subject</th>\n",
       "      <th>...</th>\n",
       "      <th>open</th>\n",
       "      <th>mike</th>\n",
       "      <th>play</th>\n",
       "      <th>cause</th>\n",
       "      <th>local</th>\n",
       "      <th>toronto</th>\n",
       "      <th>copy</th>\n",
       "      <th>week</th>\n",
       "      <th>target</th>\n",
       "      <th>label</th>\n",
       "    </tr>\n",
       "  </thead>\n",
       "  <tbody>\n",
       "    <tr>\n",
       "      <th>0</th>\n",
       "      <td>1</td>\n",
       "      <td>1</td>\n",
       "      <td>1</td>\n",
       "      <td>1</td>\n",
       "      <td>1</td>\n",
       "      <td>1</td>\n",
       "      <td>1</td>\n",
       "      <td>1</td>\n",
       "      <td>1</td>\n",
       "      <td>1</td>\n",
       "      <td>...</td>\n",
       "      <td>0</td>\n",
       "      <td>0</td>\n",
       "      <td>0</td>\n",
       "      <td>0</td>\n",
       "      <td>0</td>\n",
       "      <td>0</td>\n",
       "      <td>0</td>\n",
       "      <td>0</td>\n",
       "      <td>0</td>\n",
       "      <td>20_newsgroups\\alt.atheism\\49960</td>\n",
       "    </tr>\n",
       "    <tr>\n",
       "      <th>1</th>\n",
       "      <td>1</td>\n",
       "      <td>1</td>\n",
       "      <td>1</td>\n",
       "      <td>1</td>\n",
       "      <td>1</td>\n",
       "      <td>1</td>\n",
       "      <td>1</td>\n",
       "      <td>1</td>\n",
       "      <td>1</td>\n",
       "      <td>1</td>\n",
       "      <td>...</td>\n",
       "      <td>1</td>\n",
       "      <td>0</td>\n",
       "      <td>1</td>\n",
       "      <td>1</td>\n",
       "      <td>0</td>\n",
       "      <td>0</td>\n",
       "      <td>1</td>\n",
       "      <td>0</td>\n",
       "      <td>0</td>\n",
       "      <td>20_newsgroups\\alt.atheism\\51060</td>\n",
       "    </tr>\n",
       "    <tr>\n",
       "      <th>2</th>\n",
       "      <td>1</td>\n",
       "      <td>1</td>\n",
       "      <td>1</td>\n",
       "      <td>1</td>\n",
       "      <td>1</td>\n",
       "      <td>1</td>\n",
       "      <td>1</td>\n",
       "      <td>1</td>\n",
       "      <td>1</td>\n",
       "      <td>1</td>\n",
       "      <td>...</td>\n",
       "      <td>0</td>\n",
       "      <td>0</td>\n",
       "      <td>0</td>\n",
       "      <td>0</td>\n",
       "      <td>0</td>\n",
       "      <td>0</td>\n",
       "      <td>0</td>\n",
       "      <td>0</td>\n",
       "      <td>0</td>\n",
       "      <td>20_newsgroups\\alt.atheism\\51119</td>\n",
       "    </tr>\n",
       "    <tr>\n",
       "      <th>3</th>\n",
       "      <td>1</td>\n",
       "      <td>1</td>\n",
       "      <td>1</td>\n",
       "      <td>1</td>\n",
       "      <td>1</td>\n",
       "      <td>1</td>\n",
       "      <td>1</td>\n",
       "      <td>1</td>\n",
       "      <td>1</td>\n",
       "      <td>1</td>\n",
       "      <td>...</td>\n",
       "      <td>0</td>\n",
       "      <td>0</td>\n",
       "      <td>0</td>\n",
       "      <td>0</td>\n",
       "      <td>0</td>\n",
       "      <td>0</td>\n",
       "      <td>1</td>\n",
       "      <td>0</td>\n",
       "      <td>0</td>\n",
       "      <td>20_newsgroups\\alt.atheism\\51120</td>\n",
       "    </tr>\n",
       "    <tr>\n",
       "      <th>4</th>\n",
       "      <td>1</td>\n",
       "      <td>1</td>\n",
       "      <td>1</td>\n",
       "      <td>0</td>\n",
       "      <td>1</td>\n",
       "      <td>1</td>\n",
       "      <td>1</td>\n",
       "      <td>1</td>\n",
       "      <td>1</td>\n",
       "      <td>1</td>\n",
       "      <td>...</td>\n",
       "      <td>0</td>\n",
       "      <td>0</td>\n",
       "      <td>0</td>\n",
       "      <td>0</td>\n",
       "      <td>0</td>\n",
       "      <td>0</td>\n",
       "      <td>0</td>\n",
       "      <td>0</td>\n",
       "      <td>0</td>\n",
       "      <td>20_newsgroups\\alt.atheism\\51121</td>\n",
       "    </tr>\n",
       "  </tbody>\n",
       "</table>\n",
       "<p>5 rows × 402 columns</p>\n",
       "</div>"
      ],
      "text/plain": [
       "   edu  cmu  com  news  srv  cantaloupe  net  line  message  subject  \\\n",
       "0    1    1    1     1    1           1    1     1        1        1   \n",
       "1    1    1    1     1    1           1    1     1        1        1   \n",
       "2    1    1    1     1    1           1    1     1        1        1   \n",
       "3    1    1    1     1    1           1    1     1        1        1   \n",
       "4    1    1    1     0    1           1    1     1        1        1   \n",
       "\n",
       "                ...                 open  mike  play  cause  local  toronto  \\\n",
       "0               ...                    0     0     0      0      0        0   \n",
       "1               ...                    1     0     1      1      0        0   \n",
       "2               ...                    0     0     0      0      0        0   \n",
       "3               ...                    0     0     0      0      0        0   \n",
       "4               ...                    0     0     0      0      0        0   \n",
       "\n",
       "   copy  week  target                            label  \n",
       "0     0     0       0  20_newsgroups\\alt.atheism\\49960  \n",
       "1     1     0       0  20_newsgroups\\alt.atheism\\51060  \n",
       "2     0     0       0  20_newsgroups\\alt.atheism\\51119  \n",
       "3     1     0       0  20_newsgroups\\alt.atheism\\51120  \n",
       "4     0     0       0  20_newsgroups\\alt.atheism\\51121  \n",
       "\n",
       "[5 rows x 402 columns]"
      ]
     },
     "execution_count": 39,
     "metadata": {},
     "output_type": "execute_result"
    }
   ],
   "source": [
    "new_data.head()"
   ]
  },
  {
   "cell_type": "markdown",
   "metadata": {},
   "source": [
    "### (c)"
   ]
  },
  {
   "cell_type": "code",
   "execution_count": 40,
   "metadata": {},
   "outputs": [
    {
     "name": "stdout",
     "output_type": "stream",
     "text": [
      "Train    \n",
      "Result of trails:[0.99985711223833673, 0.99992855611916842, 0.99978566835750515, 0.99978566835750515, 0.99992855611916842, 0.99985711223833673, 0.99985711223833673, 0.99971422447667357, 0.99985711223833673, 0.99985711223833673]     \n",
      "Average Accuracy: 0.9998428234621703     \n",
      "Confidence Interval: 3.5697724481094203e-05\n",
      "\n",
      "Test    \n",
      "Result of trails:[0.9986666666666667, 0.99850000000000005, 0.99883333333333335, 0.99883333333333335, 0.99783333333333335, 0.99833333333333329, 0.999, 0.99950000000000006, 0.9986666666666667, 0.99833333333333329]     \n",
      "Average Accuracy: 0.9986499999999999     \n",
      "Confidence Interval: 0.00024335473329321685\n"
     ]
    }
   ],
   "source": [
    "new_train_scores, new_test_scores, new_train_mean, new_test_mean, new_train_ci, new_test_ci = randomSplitCI(new_data, 'LR', 10, c=1.0)\n",
    "print(\"Train\\\n",
    "    \\nResult of trails:{0} \\\n",
    "    \\nAverage Accuracy: {1} \\\n",
    "    \\nConfidence Interval: {2}\\n\".format(new_train_scores, new_train_mean, new_train_ci)\n",
    "     )\n",
    "print(\"Test\\\n",
    "    \\nResult of trails:{0} \\\n",
    "    \\nAverage Accuracy: {1} \\\n",
    "    \\nConfidence Interval: {2}\".format(new_test_scores, new_test_mean, new_test_ci)\n",
    "     )"
   ]
  },
  {
   "cell_type": "markdown",
   "metadata": {},
   "source": [
    "### (d)"
   ]
  },
  {
   "cell_type": "markdown",
   "metadata": {
    "collapsed": true
   },
   "source": [
    "Yes. In only a single trial, it does not take advantage of using the entire datasets because the data used for the testing is not contributed to your model training. With multiple randomized trials, you potentially use different training data in each trial from all the samples thus you will be able to see a general performance of the classifier in terms of the average accuracy and the confidence interval. The more trials we run, the smaller CI suggesting the average accuracy is closer to the true accuracy."
   ]
  },
  {
   "cell_type": "markdown",
   "metadata": {},
   "source": [
    "## Q2"
   ]
  },
  {
   "cell_type": "markdown",
   "metadata": {},
   "source": [
    "### (a)"
   ]
  },
  {
   "cell_type": "code",
   "execution_count": 41,
   "metadata": {
    "collapsed": true
   },
   "outputs": [],
   "source": [
    "new_train_mean_fs, new_train_ci_fs, new_test_mean_fs, new_test_ci_fs = featureSizeAC(new_data, 'LR', 5, c=1.0)"
   ]
  },
  {
   "cell_type": "markdown",
   "metadata": {},
   "source": [
    "### (b)"
   ]
  },
  {
   "cell_type": "code",
   "execution_count": 42,
   "metadata": {},
   "outputs": [
    {
     "data": {
      "image/png": "[encoded data removed]",
      "text/plain": [
       "<matplotlib.figure.Figure at 0x21e1ed8a128>"
      ]
     },
     "metadata": {},
     "output_type": "display_data"
    }
   ],
   "source": [
    "featureSizePlot(np.linspace(0.1, 1, 10, endpoint=True), new_train_mean_fs, new_train_ci_fs, new_test_mean_fs, new_test_ci_fs)"
   ]
  },
  {
   "cell_type": "markdown",
   "metadata": {},
   "source": [
    "In the overall 400 features, as the feature size increases the performance is getting better."
   ]
  },
  {
   "cell_type": "markdown",
   "metadata": {},
   "source": [
    "## Q3"
   ]
  },
  {
   "cell_type": "code",
   "execution_count": 43,
   "metadata": {
    "collapsed": true
   },
   "outputs": [],
   "source": [
    "new_train_mean_hp, new_train_ci_hp, new_test_mean_hp, new_test_ci_hp = hyperParameterAC(new_data, 'LR', 3)"
   ]
  },
  {
   "cell_type": "code",
   "execution_count": 44,
   "metadata": {},
   "outputs": [
    {
     "data": {
      "image/png": "[encoded data removed]",
      "text/plain": [
       "<matplotlib.figure.Figure at 0x21e2160d4a8>"
      ]
     },
     "metadata": {},
     "output_type": "display_data"
    }
   ],
   "source": [
    "hyperParameterPlot(np.logspace(-4, 4, num=9), new_train_mean_hp, new_train_ci_hp, new_test_mean_hp, new_test_ci_hp)"
   ]
  },
  {
   "cell_type": "markdown",
   "metadata": {},
   "source": [
    "The optimal hyperparameter is found to be 1.0 as seen above, because slight overfitting occurs as the hyperparameter increases."
   ]
  },
  {
   "cell_type": "markdown",
   "metadata": {},
   "source": [
    "## Q4"
   ]
  },
  {
   "cell_type": "markdown",
   "metadata": {},
   "source": [
    "### (a)"
   ]
  },
  {
   "cell_type": "code",
   "execution_count": 45,
   "metadata": {
    "collapsed": true
   },
   "outputs": [],
   "source": [
    "new_train_mean_ds, new_train_ci_ds, new_test_mean_ds, new_test_ci_ds = dataSizeAC(new_data, 'LR', 3)"
   ]
  },
  {
   "cell_type": "markdown",
   "metadata": {},
   "source": [
    "### (b)"
   ]
  },
  {
   "cell_type": "code",
   "execution_count": 46,
   "metadata": {},
   "outputs": [
    {
     "data": {
      "image/png": "[encoded data removed]",
      "text/plain": [
       "<matplotlib.figure.Figure at 0x21e1e7d99e8>"
      ]
     },
     "metadata": {},
     "output_type": "display_data"
    }
   ],
   "source": [
    "dataSizePlot(np.linspace(0.1, 1, 10, endpoint=True), new_train_mean_ds, new_train_ci_ds, new_test_mean_ds, new_test_ci_ds)"
   ]
  },
  {
   "cell_type": "markdown",
   "metadata": {},
   "source": [
    "As seen, the higher data percentage of the training data being used the better the performance is."
   ]
  },
  {
   "cell_type": "markdown",
   "metadata": {},
   "source": [
    "## Q5"
   ]
  },
  {
   "cell_type": "markdown",
   "metadata": {},
   "source": [
    "### (a)"
   ]
  },
  {
   "cell_type": "markdown",
   "metadata": {},
   "source": [
    "### Data encoded by 'tf'"
   ]
  },
  {
   "cell_type": "code",
   "execution_count": 47,
   "metadata": {},
   "outputs": [
    {
     "data": {
      "text/html": [
       "<div>\n",
       "<style>\n",
       "    .dataframe thead tr:only-child th {\n",
       "        text-align: right;\n",
       "    }\n",
       "\n",
       "    .dataframe thead th {\n",
       "        text-align: left;\n",
       "    }\n",
       "\n",
       "    .dataframe tbody tr th {\n",
       "        vertical-align: top;\n",
       "    }\n",
       "</style>\n",
       "<table border=\"1\" class=\"dataframe\">\n",
       "  <thead>\n",
       "    <tr style=\"text-align: right;\">\n",
       "      <th></th>\n",
       "      <th>edu</th>\n",
       "      <th>cmu</th>\n",
       "      <th>com</th>\n",
       "      <th>news</th>\n",
       "      <th>srv</th>\n",
       "      <th>cantaloupe</th>\n",
       "      <th>net</th>\n",
       "      <th>line</th>\n",
       "      <th>message</th>\n",
       "      <th>subject</th>\n",
       "      <th>...</th>\n",
       "      <th>open</th>\n",
       "      <th>mike</th>\n",
       "      <th>play</th>\n",
       "      <th>cause</th>\n",
       "      <th>local</th>\n",
       "      <th>toronto</th>\n",
       "      <th>copy</th>\n",
       "      <th>week</th>\n",
       "      <th>target</th>\n",
       "      <th>label</th>\n",
       "    </tr>\n",
       "  </thead>\n",
       "  <tbody>\n",
       "    <tr>\n",
       "      <th>0</th>\n",
       "      <td>10</td>\n",
       "      <td>5</td>\n",
       "      <td>1</td>\n",
       "      <td>4</td>\n",
       "      <td>3</td>\n",
       "      <td>2</td>\n",
       "      <td>2</td>\n",
       "      <td>2</td>\n",
       "      <td>1</td>\n",
       "      <td>2</td>\n",
       "      <td>...</td>\n",
       "      <td>0</td>\n",
       "      <td>0</td>\n",
       "      <td>0</td>\n",
       "      <td>0</td>\n",
       "      <td>0</td>\n",
       "      <td>0</td>\n",
       "      <td>0</td>\n",
       "      <td>0</td>\n",
       "      <td>0</td>\n",
       "      <td>20_newsgroups\\alt.atheism\\49960</td>\n",
       "    </tr>\n",
       "  </tbody>\n",
       "</table>\n",
       "<p>1 rows × 402 columns</p>\n",
       "</div>"
      ],
      "text/plain": [
       "   edu  cmu  com  news  srv  cantaloupe  net  line  message  subject  \\\n",
       "0   10    5    1     4    3           2    2     2        1        2   \n",
       "\n",
       "                ...                 open  mike  play  cause  local  toronto  \\\n",
       "0               ...                    0     0     0      0      0        0   \n",
       "\n",
       "   copy  week  target                            label  \n",
       "0     0     0       0  20_newsgroups\\alt.atheism\\49960  \n",
       "\n",
       "[1 rows x 402 columns]"
      ]
     },
     "execution_count": 47,
     "metadata": {},
     "output_type": "execute_result"
    }
   ],
   "source": [
    "new_data_tf = data_tf.copy()\n",
    "new_data_tf['target'] = label_binarize(new_data_tf['target'], classes=[14])\n",
    "new_data_tf.head(n=1)"
   ]
  },
  {
   "cell_type": "markdown",
   "metadata": {},
   "source": [
    "### Data encoded by 'boolean'"
   ]
  },
  {
   "cell_type": "code",
   "execution_count": 48,
   "metadata": {},
   "outputs": [
    {
     "data": {
      "text/html": [
       "<div>\n",
       "<style>\n",
       "    .dataframe thead tr:only-child th {\n",
       "        text-align: right;\n",
       "    }\n",
       "\n",
       "    .dataframe thead th {\n",
       "        text-align: left;\n",
       "    }\n",
       "\n",
       "    .dataframe tbody tr th {\n",
       "        vertical-align: top;\n",
       "    }\n",
       "</style>\n",
       "<table border=\"1\" class=\"dataframe\">\n",
       "  <thead>\n",
       "    <tr style=\"text-align: right;\">\n",
       "      <th></th>\n",
       "      <th>edu</th>\n",
       "      <th>cmu</th>\n",
       "      <th>com</th>\n",
       "      <th>news</th>\n",
       "      <th>srv</th>\n",
       "      <th>cantaloupe</th>\n",
       "      <th>net</th>\n",
       "      <th>line</th>\n",
       "      <th>message</th>\n",
       "      <th>subject</th>\n",
       "      <th>...</th>\n",
       "      <th>open</th>\n",
       "      <th>mike</th>\n",
       "      <th>play</th>\n",
       "      <th>cause</th>\n",
       "      <th>local</th>\n",
       "      <th>toronto</th>\n",
       "      <th>copy</th>\n",
       "      <th>week</th>\n",
       "      <th>target</th>\n",
       "      <th>label</th>\n",
       "    </tr>\n",
       "  </thead>\n",
       "  <tbody>\n",
       "    <tr>\n",
       "      <th>0</th>\n",
       "      <td>1</td>\n",
       "      <td>1</td>\n",
       "      <td>1</td>\n",
       "      <td>1</td>\n",
       "      <td>1</td>\n",
       "      <td>1</td>\n",
       "      <td>1</td>\n",
       "      <td>1</td>\n",
       "      <td>1</td>\n",
       "      <td>1</td>\n",
       "      <td>...</td>\n",
       "      <td>0</td>\n",
       "      <td>0</td>\n",
       "      <td>0</td>\n",
       "      <td>0</td>\n",
       "      <td>0</td>\n",
       "      <td>0</td>\n",
       "      <td>0</td>\n",
       "      <td>0</td>\n",
       "      <td>0</td>\n",
       "      <td>20_newsgroups\\alt.atheism\\49960</td>\n",
       "    </tr>\n",
       "  </tbody>\n",
       "</table>\n",
       "<p>1 rows × 402 columns</p>\n",
       "</div>"
      ],
      "text/plain": [
       "   edu  cmu  com  news  srv  cantaloupe  net  line  message  subject  \\\n",
       "0    1    1    1     1    1           1    1     1        1        1   \n",
       "\n",
       "                ...                 open  mike  play  cause  local  toronto  \\\n",
       "0               ...                    0     0     0      0      0        0   \n",
       "\n",
       "   copy  week  target                            label  \n",
       "0     0     0       0  20_newsgroups\\alt.atheism\\49960  \n",
       "\n",
       "[1 rows x 402 columns]"
      ]
     },
     "execution_count": 48,
     "metadata": {},
     "output_type": "execute_result"
    }
   ],
   "source": [
    "new_data.head(n=1)"
   ]
  },
  {
   "cell_type": "markdown",
   "metadata": {},
   "source": [
    "### (b)"
   ]
  },
  {
   "cell_type": "markdown",
   "metadata": {},
   "source": [
    "### Raw TF vs Binary TF"
   ]
  },
  {
   "cell_type": "code",
   "execution_count": 49,
   "metadata": {},
   "outputs": [
    {
     "name": "stdout",
     "output_type": "stream",
     "text": [
      "Raw TF Test    \n",
      "Average Accuracy: 0.9972333333333335     \n",
      "Confidence Interval: [0.9966727385904256, 0.99779392807624145]\n",
      "Binary TF Test    \n",
      "Average Accuracy: 0.9985666666666667     \n",
      "Confidence Interval: [0.99832804507171746, 0.99880528826161596]\n"
     ]
    }
   ],
   "source": [
    "_, _, _, new_test_mean_tf, _, new_test_ci_tf = randomSplitCI(new_data_tf, 'LR', 10, c=1.0)\n",
    "_, _, _, new_test_mean_bi, _, new_test_ci_bi = randomSplitCI(new_data, 'LR', 10, c=1.0)\n",
    "\n",
    "print(\"Raw TF Test\\\n",
    "    \\nAverage Accuracy: {0} \\\n",
    "    \\nConfidence Interval: {1}\".format(new_test_mean_tf, [new_test_mean_tf - new_test_ci_tf, new_test_mean_tf + new_test_ci_tf])\n",
    "     )\n",
    "print(\"Binary TF Test\\\n",
    "    \\nAverage Accuracy: {0} \\\n",
    "    \\nConfidence Interval: {1}\".format(new_test_mean_bi, [new_test_mean_bi - new_test_ci_bi, new_test_mean_bi + new_test_ci_bi])\n",
    "     )\n"
   ]
  },
  {
   "cell_type": "code",
   "execution_count": 50,
   "metadata": {},
   "outputs": [
    {
     "data": {
      "image/png": "[encoded data removed]",
      "text/plain": [
       "<matplotlib.figure.Figure at 0x21e2368a710>"
      ]
     },
     "metadata": {},
     "output_type": "display_data"
    }
   ],
   "source": [
    "compare_plot(new_test_mean_tf, new_test_ci_tf, new_test_mean_bi, new_test_ci_bi, leg=[\"Raw TF\", \"Binary TF\"])"
   ]
  },
  {
   "cell_type": "markdown",
   "metadata": {},
   "source": [
    "As seen above, the data encoded with binary term frequncy performs slightly better, which is due to the fact that binary encoding method forces the features to be normalized to a same scale (i.e. 0 or 1), more friendly for the classifier."
   ]
  },
  {
   "cell_type": "markdown",
   "metadata": {},
   "source": [
    "## Q6"
   ]
  },
  {
   "cell_type": "markdown",
   "metadata": {},
   "source": [
    "### (a)"
   ]
  },
  {
   "cell_type": "markdown",
   "metadata": {
    "collapsed": true
   },
   "source": [
    "### NB vs LR"
   ]
  },
  {
   "cell_type": "code",
   "execution_count": 51,
   "metadata": {},
   "outputs": [
    {
     "name": "stdout",
     "output_type": "stream",
     "text": [
      "NB Test    \n",
      "Average Accuracy: 0.9972166666666666     \n",
      "Confidence Interval: [0.99686947534733206, 0.99756385798600122]\n",
      "LR Test    \n",
      "Average Accuracy: 0.9988833333333332     \n",
      "Confidence Interval: [0.99864915069993088, 0.99911751596673559]\n"
     ]
    }
   ],
   "source": [
    "_, _, _, new_test_mean_nb, _, new_test_ci_nb = randomSplitCI(new_data, 'NB', 10, c=1.0)\n",
    "_, _, _, new_test_mean_lr, _, new_test_ci_lr = randomSplitCI(new_data, 'LR', 10, c=1.0)\n",
    "\n",
    "print(\"NB Test\\\n",
    "    \\nAverage Accuracy: {0} \\\n",
    "    \\nConfidence Interval: {1}\".format(new_test_mean_nb, [new_test_mean_nb - new_test_ci_nb, new_test_mean_nb + new_test_ci_nb])\n",
    "     )\n",
    "print(\"LR Test\\\n",
    "    \\nAverage Accuracy: {0} \\\n",
    "    \\nConfidence Interval: {1}\".format(new_test_mean_lr, [new_test_mean_lr - new_test_ci_lr, new_test_mean_lr + new_test_ci_lr])\n",
    "     )"
   ]
  },
  {
   "cell_type": "code",
   "execution_count": 52,
   "metadata": {},
   "outputs": [
    {
     "data": {
      "image/png": "[encoded data removed]",
      "text/plain": [
       "<matplotlib.figure.Figure at 0x21e1f3c1eb8>"
      ]
     },
     "metadata": {},
     "output_type": "display_data"
    }
   ],
   "source": [
    "compare_plot(new_test_mean_nb, new_test_ci_nb, new_test_mean_lr, new_test_ci_lr, leg=[\"NB\", \"LR\"])"
   ]
  },
  {
   "cell_type": "markdown",
   "metadata": {
    "collapsed": true
   },
   "source": [
    "The NB places a strong assumption of conditionally independence between the features, which in reality does not hold but close, indicating NB has a higher bias or lower variance compared to LR."
   ]
  },
  {
   "cell_type": "markdown",
   "metadata": {},
   "source": [
    "# Validation"
   ]
  },
  {
   "cell_type": "markdown",
   "metadata": {},
   "source": [
    "### dataPreprocessor"
   ]
  },
  {
   "cell_type": "code",
   "execution_count": 53,
   "metadata": {
    "collapsed": true
   },
   "outputs": [],
   "source": [
    "assert(isinstance(data, pd.DataFrame)), \"data should be pandas dataframe type\""
   ]
  },
  {
   "cell_type": "markdown",
   "metadata": {},
   "source": [
    "### randomSplitCI"
   ]
  },
  {
   "cell_type": "code",
   "execution_count": 54,
   "metadata": {
    "collapsed": true
   },
   "outputs": [],
   "source": [
    "assert(isinstance(train_scores, list)), \"train_scores should be list type\"\n",
    "assert(isinstance(test_scores, list)), \"test_scores should be list type\"\n",
    "assert(isinstance(train_mean, float)), \"train_mean should be float type\"\n",
    "assert(isinstance(test_mean, float)), \"test_mean should be float type\"\n",
    "assert(isinstance(train_ci, float)), \"train_ci should be float type\"\n",
    "assert(isinstance(test_ci, float)), \"test_ci should be float type\""
   ]
  },
  {
   "cell_type": "markdown",
   "metadata": {},
   "source": [
    "### randomSplitCM"
   ]
  },
  {
   "cell_type": "code",
   "execution_count": 55,
   "metadata": {
    "collapsed": true
   },
   "outputs": [],
   "source": [
    "assert(isinstance(cm, pd.DataFrame)), \"Confusion matrix should be pandas dataframe type\""
   ]
  },
  {
   "cell_type": "markdown",
   "metadata": {},
   "source": [
    "### featureSizeAC"
   ]
  },
  {
   "cell_type": "code",
   "execution_count": 56,
   "metadata": {
    "collapsed": true
   },
   "outputs": [],
   "source": [
    "assert(isinstance(train_mean_fs, list)), \"train_mean_fs should be list type\"\n",
    "assert(isinstance(test_mean_fs, list)), \"test_mean_fs should be list type\"\n",
    "assert(isinstance(train_ci_fs, list)), \"train_ci_fs should be list type\"\n",
    "assert(isinstance(test_ci_fs, list)), \"test_ci_fs should be list type\"\n",
    "assert(len(train_mean_fs)==len(train_ci_fs)), \\\n",
    "\"list length of mean and confidence interval are not equal(train)\"\n",
    "assert(len(test_mean_fs)==len(test_ci_fs)), \\\n",
    "\"list length of mean and confidence interval are not equal(test)\""
   ]
  },
  {
   "cell_type": "markdown",
   "metadata": {},
   "source": [
    "### hyperParameterAC"
   ]
  },
  {
   "cell_type": "code",
   "execution_count": 57,
   "metadata": {
    "collapsed": true
   },
   "outputs": [],
   "source": [
    "assert(isinstance(train_mean_hp, list)), \"train_mean_hp should be list type\"\n",
    "assert(isinstance(test_mean_hp, list)), \"test_mean_hp should be list type\"\n",
    "assert(isinstance(train_ci_hp, list)), \"train_ci_hp should be list type\"\n",
    "assert(isinstance(test_ci_hp, list)), \"test_ci_hp should be list type\"\n",
    "assert(len(train_mean_hp)==len(train_ci_hp)), \\\n",
    "\"list length of mean and confidence interval are not equal(train)\"\n",
    "assert(len(test_mean_hp)==len(test_ci_hp)), \\\n",
    "\"list length of mean and confidence interval are not equal(test)\""
   ]
  },
  {
   "cell_type": "markdown",
   "metadata": {},
   "source": [
    "### dataSizeAC"
   ]
  },
  {
   "cell_type": "code",
   "execution_count": 58,
   "metadata": {
    "collapsed": true
   },
   "outputs": [],
   "source": [
    "train_mean_ds, train_ci_ds, test_mean_ds, test_ci_ds\n",
    "assert(isinstance(train_mean_ds, list)), \"train_mean_ds should be list type\"\n",
    "assert(isinstance(test_mean_ds, list)), \"test_mean_ds should be list type\"\n",
    "assert(isinstance(train_ci_ds, list)), \"train_ci_ds should be list type\"\n",
    "assert(isinstance(test_ci_ds, list)), \"test_ci_ds should be list type\"\n",
    "assert(len(train_mean_ds)==len(train_ci_ds)), \\\n",
    "\"list length of mean and confidence interval are not equal(train)\"\n",
    "assert(len(test_mean_ds)==len(test_ci_ds)), \\\n",
    "\"list length of mean and confidence interval are not equal(test)\""
   ]
  }
 ],
 "metadata": {
  "kernelspec": {
   "display_name": "Python [conda env:py35]",
   "language": "python",
   "name": "conda-env-py35-py"
  },
  "language_info": {
   "codemirror_mode": {
    "name": "ipython",
    "version": 3
   },
   "file_extension": ".py",
   "mimetype": "text/x-python",
   "name": "python",
   "nbconvert_exporter": "python",
   "pygments_lexer": "ipython3",
   "version": "3.5.3"
  }
 },
 "nbformat": 4,
 "nbformat_minor": 2
}
